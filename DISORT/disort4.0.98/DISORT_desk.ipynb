{
 "cells": [
  {
   "cell_type": "code",
   "execution_count": 1,
   "metadata": {},
   "outputs": [],
   "source": [
    "import numpy as np\n",
    "import matplotlib.pyplot as plt"
   ]
  },
  {
   "cell_type": "code",
   "execution_count": 2,
   "metadata": {},
   "outputs": [],
   "source": [
    "def scat_ang(SZA,VZA,RAA):\n",
    "    '''\n",
    "    Return the scattering angle in degrees\n",
    "    SZA,VZA : Source(ray)_Zenith_Angle, Viewing_Zenith_Angle (in degrees)\n",
    "    RAA : Source Azimuth Angle - (Apparent)Scattering Azimuth\n",
    "    '''\n",
    "#    RAA=0-180-RAA\n",
    "# scat_a=cos(VZA)*cos(SZA)+sin(VZA)*sin(SZA)*cos(SAA-VAA)\n",
    "    SZA=np.deg2rad(SZA);\n",
    "    VZA=np.deg2rad(VZA)\n",
    "    RAA=np.deg2rad(RAA)\n",
    "    \n",
    "    scat_a=np.arccos(np.cos(SZA)*np.cos(VZA)+np.sin(SZA)*np.sin(VZA)*np.cos(RAA))\n",
    "    scat_a=np.rad2deg(scat_a)\n",
    "    return scat_a"
   ]
  },
  {
   "cell_type": "code",
   "execution_count": 3,
   "metadata": {},
   "outputs": [],
   "source": [
    "NUMU = 90 # Number of polar angles\n",
    "NTAU = 2 # Number of optical depths\n",
    "UMU0 = np.cos(np.pi/3)-0.001 # cosine of the incident beam's zenith angle\n",
    "PHI0 = 0.0 # Azimuth angle of the incident beam\n",
    "PHIs=np.loadtxt('INTENSITY.dat',skiprows=NUMU*NTAU)\n",
    "data=np.loadtxt('INTENSITY.dat',max_rows=NUMU*NTAU)\n",
    "\n",
    "ztau=data[:,0] # tau level as z axis\n",
    "mu =data[:,1]  # cos(VZA)\n",
    "rawI = data[:,2:] # I(PHIs)\n",
    "\n",
    "VZA = np.hstack((np.rad2deg(np.arccos(mu[0:NUMU])),np.flipud(np.rad2deg(np.arccos(mu[0:NUMU])))))\n",
    "VAA = np.hstack((np.zeros(NUMU,dtype=float)+PHIs[2],np.zeros(NUMU,dtype=float)+PHIs[0]))\n",
    "I = np.hstack((rawI[0:NUMU,2],np.flipud(rawI[0:NUMU,0])))\n",
    "SZA = np.zeros_like(I,dtype=float)+np.rad2deg(np.arccos(UMU0))\n",
    "SAA = np.zeros_like(I,dtype=float)+PHI0\n",
    "srSZA = SZA\n",
    "srAA = PHI0 \n",
    "RAA = srAA-VAA\n",
    "ScatA = scat_ang(srSZA,VZA,RAA)"
   ]
  },
  {
   "cell_type": "code",
   "execution_count": 118,
   "metadata": {},
   "outputs": [
    {
     "data": {
      "text/plain": [
       "array([180., 180., 180., 180., 180., 180., 180., 180., 180., 180., 180.,\n",
       "       180., 180., 180., 180., 180., 180., 180., 180., 180., 180., 180.,\n",
       "       180., 180., 180., 180., 180., 180., 180., 180., 180., 180., 180.,\n",
       "       180., 180., 180., 180., 180., 180., 180., 180., 180., 180., 180.,\n",
       "       180., 180., 180., 180., 180., 180., 180., 180., 180., 180., 180.,\n",
       "       180., 180., 180., 180., 180., 180., 180., 180., 180., 180., 180.,\n",
       "       180., 180., 180., 180., 180., 180., 180., 180., 180., 180., 180.,\n",
       "       180., 180., 180., 180., 180., 180., 180., 180., 180., 180., 180.,\n",
       "       180., 180.,   0.,   0.,   0.,   0.,   0.,   0.,   0.,   0.,   0.,\n",
       "         0.,   0.,   0.,   0.,   0.,   0.,   0.,   0.,   0.,   0.,   0.,\n",
       "         0.,   0.,   0.,   0.,   0.,   0.,   0.,   0.,   0.,   0.,   0.,\n",
       "         0.,   0.,   0.,   0.,   0.,   0.,   0.,   0.,   0.,   0.,   0.,\n",
       "         0.,   0.,   0.,   0.,   0.,   0.,   0.,   0.,   0.,   0.,   0.,\n",
       "         0.,   0.,   0.,   0.,   0.,   0.,   0.,   0.,   0.,   0.,   0.,\n",
       "         0.,   0.,   0.,   0.,   0.,   0.,   0.,   0.,   0.,   0.,   0.,\n",
       "         0.,   0.,   0.,   0.,   0.,   0.,   0.,   0.,   0.,   0.,   0.,\n",
       "         0.,   0.,   0.,   0.])"
      ]
     },
     "execution_count": 118,
     "metadata": {},
     "output_type": "execute_result"
    }
   ],
   "source": [
    "VAA"
   ]
  },
  {
   "cell_type": "code",
   "execution_count": 4,
   "metadata": {},
   "outputs": [
    {
     "data": {
      "text/plain": [
       "Text(0, 0.5, 'I')"
      ]
     },
     "execution_count": 4,
     "metadata": {},
     "output_type": "execute_result"
    },
    {
     "data": {
      "image/png": "[encoded data removed]",
      "text/plain": [
       "<Figure size 432x288 with 1 Axes>"
      ]
     },
     "metadata": {
      "needs_background": "light"
     },
     "output_type": "display_data"
    }
   ],
   "source": [
    "plt.plot(np.cos(np.rad2deg(VAA))*VZA,I,'b')\n",
    "plt.xlabel('cos(VAA)xVZA')\n",
    "plt.ylabel('I')"
   ]
  },
  {
   "cell_type": "code",
   "execution_count": 6,
   "metadata": {},
   "outputs": [
    {
     "data": {
      "text/plain": [
       "Text(0, 0.5, 'I')"
      ]
     },
     "execution_count": 6,
     "metadata": {},
     "output_type": "execute_result"
    },
    {
     "data": {
      "image/png": "[encoded data removed]",
      "text/plain": [
       "<Figure size 432x288 with 1 Axes>"
      ]
     },
     "metadata": {
      "needs_background": "light"
     },
     "output_type": "display_data"
    }
   ],
   "source": [
    "plt.plot(ScatA,I,'b')\n",
    "plt.xlabel('Scattering Angle')\n",
    "plt.ylabel('I')"
   ]
  },
  {
   "cell_type": "code",
   "execution_count": null,
   "metadata": {},
   "outputs": [],
   "source": []
  }
 ],
 "metadata": {
  "kernelspec": {
   "display_name": "Python 3",
   "language": "python",
   "name": "python3"
  },
  "language_info": {
   "codemirror_mode": {
    "name": "ipython",
    "version": 3
   },
   "file_extension": ".py",
   "mimetype": "text/x-python",
   "name": "python",
   "nbconvert_exporter": "python",
   "pygments_lexer": "ipython3",
   "version": "3.7.3"
  }
 },
 "nbformat": 4,
 "nbformat_minor": 4
}
